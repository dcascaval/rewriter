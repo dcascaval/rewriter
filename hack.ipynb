{
 "cells": [
  {
   "cell_type": "code",
   "execution_count": 3,
   "metadata": {},
   "outputs": [],
   "source": [
    "import sympy\n",
    "import numpy as np\n",
    "from dataclasses import dataclass\n",
    "from typing import List\n",
    "from IPython.display import SVG"
   ]
  },
  {
   "cell_type": "code",
   "execution_count": 180,
   "metadata": {},
   "outputs": [],
   "source": [
    "from sympy.vector import Vector"
   ]
  },
  {
   "cell_type": "code",
   "execution_count": 183,
   "metadata": {},
   "outputs": [],
   "source": [
    "from sympy.abc import a,b,c,d"
   ]
  },
  {
   "cell_type": "code",
   "execution_count": 184,
   "metadata": {},
   "outputs": [],
   "source": [
    "A = (a,b)\n",
    "B = (c,d)"
   ]
  },
  {
   "cell_type": "code",
   "execution_count": 187,
   "metadata": {},
   "outputs": [],
   "source": [
    "Point = sympy.Function('Point')\n",
    "Line = sympy.Function('Line')\n",
    "Extrude = sympy.Function('Extrude')\n",
    "Polygon = sympy.Function('Polygon')"
   ]
  },
  {
   "cell_type": "code",
   "execution_count": 190,
   "metadata": {},
   "outputs": [],
   "source": [
    "import sympy.vector"
   ]
  },
  {
   "cell_type": "code",
   "execution_count": 192,
   "metadata": {},
   "outputs": [],
   "source": [
    "from sympy import Matrix"
   ]
  },
  {
   "cell_type": "code",
   "execution_count": 194,
   "metadata": {},
   "outputs": [
    {
     "data": {
      "text/latex": [
       "$\\displaystyle \\left[\\begin{matrix}1\\\\2\\end{matrix}\\right]$"
      ],
      "text/plain": [
       "Matrix([\n",
       "[1],\n",
       "[2]])"
      ]
     },
     "execution_count": 194,
     "metadata": {},
     "output_type": "execute_result"
    }
   ],
   "source": [
    "Matrix([1,2])"
   ]
  },
  {
   "cell_type": "code",
   "execution_count": 209,
   "metadata": {},
   "outputs": [],
   "source": [
    "def make_rect(origin, offset, depth):\n",
    "    a = Point(origin[0],origin[1])\n",
    "    b = Point(origin[0]+offset[0],origin[0]+offset[1])\n",
    "    l = Line(a, b)\n",
    "    rect = Extrude(l, depth)\n",
    "    return rect"
   ]
  },
  {
   "cell_type": "code",
   "execution_count": 210,
   "metadata": {},
   "outputs": [],
   "source": [
    "x,y,z,a,b,c = sympy.symbols('x y z a b c')"
   ]
  },
  {
   "cell_type": "code",
   "execution_count": 211,
   "metadata": {},
   "outputs": [],
   "source": [
    "rect = make_rect((x,y), (a,b), c)"
   ]
  },
  {
   "cell_type": "code",
   "execution_count": 212,
   "metadata": {},
   "outputs": [
    {
     "data": {
      "text/latex": [
       "$\\displaystyle \\sqrt{x}$"
      ],
      "text/plain": [
       "sqrt(x)"
      ]
     },
     "execution_count": 212,
     "metadata": {},
     "output_type": "execute_result"
    }
   ],
   "source": [
    "sympy.sqrt(x)"
   ]
  },
  {
   "cell_type": "code",
   "execution_count": 216,
   "metadata": {},
   "outputs": [
    {
     "data": {
      "text/plain": [
       "Line(start=Point(x=x, y=y), end=Point(x=a + x, y=b + x))"
      ]
     },
     "execution_count": 216,
     "metadata": {},
     "output_type": "execute_result"
    }
   ],
   "source": []
  },
  {
   "cell_type": "code",
   "execution_count": 12,
   "metadata": {},
   "outputs": [],
   "source": [
    "from sympy import sqrt\n",
    "\n",
    "@dataclass\n",
    "class Number:\n",
    "    val: float\n",
    "    \n",
    "\n",
    "num = Number\n",
    "\n",
    "def box_union(*boxes):\n",
    "    points = np.concatenate(boxes, 0)\n",
    "    return np.stack([points.min(axis=0), points.max(axis=0)])\n",
    "\n",
    "class Shape:\n",
    "    pass\n",
    "\n",
    "@dataclass\n",
    "class Point(Shape):\n",
    "    x: num\n",
    "    y: num\n",
    "\n",
    "    def eval(self):\n",
    "        return f'<circle cx=\"{self.x}\" cy=\"{self.y}\" r=\"1\" fill=\"green\"/>'\n",
    "\n",
    "    def box(self):\n",
    "        return np.array([[self.x,self.y],[self.x,self.y]])\n",
    "\n",
    "    def get_params(self):\n",
    "        return [self.x, self.y]\n",
    "\n",
    "@dataclass\n",
    "class Line(Shape):\n",
    "    start: Point\n",
    "    end: Point\n",
    "\n",
    "    def eval(self):\n",
    "        return f'<line x1=\"{self.start.x}\" y1=\"{self.start.y}\" x2=\"{self.end.x}\" y2=\"{self.end.y}\" stroke-width=\"1\" stroke=\"red\"/>'\n",
    "    \n",
    "    def length(self):\n",
    "        return sqrt((self.end.x - self.start.x)**2 + (self.end.y - self.start.y)**2)\n",
    "\n",
    "    def box(self):\n",
    "        return box_union(self.start.box(), self.end.box())\n",
    "\n",
    "    def get_params(self):\n",
    "        return self.start.get_params() + self.end.get_params()\n",
    "\n",
    "\n",
    "@dataclass\n",
    "class Extrude(Shape):\n",
    "    line: Line\n",
    "    distance: num\n",
    "\n",
    "    def poly(self):\n",
    "        norm = self.line.length()\n",
    "        perp_x = self.distance * (self.line.start.x - self.line.end.x) / norm\n",
    "        perp_y = self.distance * (self.line.end.x - self.line.start.x) / norm\n",
    "        \n",
    "        rect = Polygon([\n",
    "           self.line.start,\n",
    "           self.line.end,\n",
    "           Point(self.line.end.x + perp_x, self.line.end.y + perp_y),\n",
    "           Point(self.line.start.x + perp_x, self.line.start.y + perp_y)\n",
    "        ])\n",
    "\n",
    "        return rect\n",
    "\n",
    "    def eval(self):\n",
    "        return self.poly().eval()\n",
    "\n",
    "    def box(self):\n",
    "        return self.poly().box()\n",
    "\n",
    "    def get_params(self):\n",
    "        return \n",
    "\n",
    "@dataclass\n",
    "class Polygon(Shape):\n",
    "    points: List[Point]\n",
    "\n",
    "    def eval(self):\n",
    "        points_str = \" \".join(f'{p.x},{p.y}' for p in self.points)\n",
    "        return f'<polygon points=\"{points_str}\" fill=\"blue\" stroke=\"none\"/>'\n",
    "\n",
    "    def box(self):\n",
    "        return box_union(*[p.box() for p in self.points])\n",
    "\n",
    "a = Point(0,0)\n",
    "b = Point(1,1)\n",
    "l = Line(a,b)\n",
    "rect = Extrude(l, 1)\n",
    "rect.eval()\n",
    "\n",
    "@dataclass\n",
    "class Rectangle:\n",
    "    c1: Point\n",
    "    c2: Point\n",
    "\n",
    "    def box(self):\n",
    "        return box_union(self.c1.box(), self.c2.box())\n",
    "\n",
    "    def eval(self):\n",
    "        w = self.c2.x - self.c1.x\n",
    "        h = self.c2.y - self.c1.y\n",
    "        return f'<rect x=\"{self.c1.x}\" y=\"{self.c1.y}\" width=\"{w}\" height=\"{h}\" fill=\"blue\"/>'\n",
    "\n",
    "\n",
    "@dataclass\n",
    "class Box:\n",
    "    w: num\n",
    "    h: num\n",
    "\n",
    "    def box(self):\n",
    "        return np.array([[0,0], [self.w, self.h]])\n",
    "    \n",
    "    def eval(self):\n",
    "        return f'<rect width=\"{self.w}\" height=\"{self.h}\" fill=\"blue\"/>'\n",
    "\n",
    "\n",
    "@dataclass\n",
    "class ShapeList(Shape):\n",
    "    shapes: List[Shape]\n",
    "\n",
    "    def box(self):\n",
    "        return box_union(*[s.box() for s in self.shapes])\n",
    "    \n",
    "    def eval(self):\n",
    "        contents_svg = '\\n'.join([s.eval() for s in self.shapes])\n",
    "        return f'<g>{contents_svg}</g>'\n",
    "\n",
    "@dataclass\n",
    "class Translate(Shape):\n",
    "    shape: Shape\n",
    "    x: num\n",
    "    y: num\n",
    "\n",
    "    def box(self):\n",
    "        return self.shape.box() + np.array([self.x, self.y])\n",
    "\n",
    "    def eval(self):\n",
    "        return f'<g transform=\"translate({self.x} {self.y})\">{self.shape.eval()}</g>'\n",
    "\n",
    "@dataclass\n",
    "class Scale(Shape):\n",
    "    shape: Shape\n",
    "    s: num\n",
    "\n",
    "    def box(self):\n",
    "        return self.shape.box()*self.s\n",
    "\n",
    "    def eval(self):\n",
    "        return f'<g transform=\"scale({self.s} {self.s})\">{self.shape.eval()}</g>'\n",
    "\n",
    "def draw(shape):\n",
    "    shape_svg = shape.eval()\n",
    "    box = shape.box()\n",
    "    min_corner = box[0]\n",
    "    box_size = box[1] - box[0]\n",
    "    view_box = ' '.join([' '.join(str(x) for x in min_corner - np.array([1,1])), ' '.join(str(x) for x in box_size*2)])\n",
    "\n",
    "    return f'<svg viewBox=\"{view_box}\" xmlns=\"http://www.w3.org/2000/svg\">{shape_svg}</svg>'"
   ]
  },
  {
   "cell_type": "code",
   "execution_count": 15,
   "metadata": {},
   "outputs": [
    {
     "data": {
      "image/svg+xml": "<svg xmlns=\"http://www.w3.org/2000/svg\" viewBox=\"-1 -1 10 10\"><rect x=\"0\" y=\"0\" width=\"5\" height=\"5\" fill=\"blue\"/></svg>",
      "text/plain": [
       "<IPython.core.display.SVG object>"
      ]
     },
     "execution_count": 15,
     "metadata": {},
     "output_type": "execute_result"
    }
   ],
   "source": [
    "SVG(data=draw(Rectangle(Point(0,0), Point(5,5))))"
   ]
  },
  {
   "cell_type": "code",
   "execution_count": 177,
   "metadata": {},
   "outputs": [
    {
     "data": {
      "image/svg+xml": "<svg xmlns=\"http://www.w3.org/2000/svg\" viewBox=\"-1.0 -4.535533905932738 27.071067811865476 27.071067811865476\"><g><polygon points=\"0,0 10,10 13.535533905932738,6.464466094067262 3.5355339059327373,-3.5355339059327373\" fill=\"blue\" stroke=\"none\"/>\n<line x1=\"0\" y1=\"0\" x2=\"10\" y2=\"10\" stroke-width=\"1\" stroke=\"red\"/>\n<g transform=\"scale(0.5 0.5)\"><g transform=\"translate(10 -4)\"><line x1=\"0\" y1=\"0\" x2=\"10\" y2=\"10\" stroke-width=\"1\" stroke=\"red\"/></g></g>\n<circle cx=\"0\" cy=\"0\" r=\"1\" fill=\"green\"/>\n<circle cx=\"10\" cy=\"10\" r=\"1\" fill=\"green\"/></g></svg>",
      "text/plain": [
       "<IPython.core.display.SVG object>"
      ]
     },
     "execution_count": 177,
     "metadata": {},
     "output_type": "execute_result"
    }
   ],
   "source": [
    "a = Point(0,0)\n",
    "b = Point(10, 10)\n",
    "l = Line(a, b)\n",
    "box = Extrude(l, -5)\n",
    "l2 = Scale(Translate(l, 10, -4), .5)\n",
    "shapes = ShapeList([box, l, l2, a ,b])\n",
    "SVG(data=draw(shapes))"
   ]
  },
  {
   "cell_type": "code",
   "execution_count": 148,
   "metadata": {},
   "outputs": [
    {
     "data": {
      "text/plain": [
       "'2)><li'"
      ]
     },
     "execution_count": 148,
     "metadata": {},
     "output_type": "execute_result"
    }
   ],
   "source": [
    "draw(l2)[90:96]"
   ]
  },
  {
   "cell_type": "code",
   "execution_count": 150,
   "metadata": {},
   "outputs": [
    {
     "data": {
      "text/plain": [
       "'<svg viewBox=\"-2 -2 10 10\" xmlns=\"http://www.w3.org/2000/svg\"><g transform=\"translate(-2 -2)><line x1=\"0\" y1=\"0\" x2=\"10\" y2=\"10\" stroke-width=\"1\" stroke=\"red\"/></g></svg>'"
      ]
     },
     "execution_count": 150,
     "metadata": {},
     "output_type": "execute_result"
    }
   ],
   "source": [
    "draw(l2)"
   ]
  },
  {
   "cell_type": "code",
   "execution_count": null,
   "metadata": {},
   "outputs": [],
   "source": []
  },
  {
   "cell_type": "code",
   "execution_count": 2,
   "metadata": {},
   "outputs": [],
   "source": [
    "# numbers\n",
    "# add\n",
    "# line\n",
    "# extrude"
   ]
  },
  {
   "cell_type": "code",
   "execution_count": 3,
   "metadata": {},
   "outputs": [],
   "source": []
  },
  {
   "cell_type": "code",
   "execution_count": 29,
   "metadata": {},
   "outputs": [],
   "source": [
    "class Line:\n",
    "    def __init__(self, x1, y1, x2, y2):\n",
    "        self.x1 = x1\n",
    "        self.y1 = y1\n",
    "        self.x2 = x2\n",
    "        self.y2 = y2\n",
    "    def __call__(self):\n",
    "        return f'line({self.x1()}, {self.y1()}, {self.x2()}, {self.x2()})'\n",
    "\n",
    "class Number:\n",
    "    def __init__(self, n):\n",
    "        self.n = n\n",
    "    def __call__(self):\n",
    "        return self.n\n",
    "\n",
    "from math import sqrt\n",
    "\n",
    "class Polygon:\n",
    "    def __init__(self, *points):\n",
    "        self.points = points\n",
    "    \n",
    "    def __call__(self):\n",
    "        points_str = \" \".join(f'{str(a)},{str(b)}' for (a,b) in self.points)\n",
    "        return f'<polygon points=\"{points_str}\"/>'\n",
    "\n",
    "class Extrude:\n",
    "    def __init__(self, l, d):\n",
    "        self.l = l\n",
    "        self.d = d\n",
    "    def __call__(self):\n",
    "        x1 = self.l.x1()\n",
    "        x2 = self.l.x2()\n",
    "        y1 = self.l.y1()\n",
    "        y2 = self.l.y2()\n",
    "\n",
    "        perp_y = (y1 - y2)\n",
    "        perp_x = (x2 - x1)\n",
    "        perp_norm = sqrt(perp_y**2 + perp_x**2)\n",
    "        n_perp_y = perp_y / perp_norm\n",
    "        n_perp_x = perp_x / perp_norm\n",
    "\n",
    "        return Polygon(\n",
    "            (x1,y1),\n",
    "            (x2,y2), \n",
    "            (x1+n_perp_x*self.d(), y1+n_perp_y*self.d()),\n",
    "            (x2+n_perp_x*self.d(), y2+n_perp_y*self.d())\n",
    "        )()"
   ]
  },
  {
   "cell_type": "code",
   "execution_count": 30,
   "metadata": {},
   "outputs": [],
   "source": [
    "rect = Extrude(Line(Number(0),Number(0), Number(1), Number(2)), Number(1))"
   ]
  },
  {
   "cell_type": "code",
   "execution_count": 31,
   "metadata": {},
   "outputs": [
    {
     "data": {
      "text/plain": [
       "'<polygon points=\"0,0 1,2 0.4472135954999579,-0.8944271909999159 1.4472135954999579,1.1055728090000843\"/>'"
      ]
     },
     "execution_count": 31,
     "metadata": {},
     "output_type": "execute_result"
    }
   ],
   "source": [
    "rect()"
   ]
  },
  {
   "cell_type": "code",
   "execution_count": null,
   "metadata": {},
   "outputs": [],
   "source": [
    "# We want to go from a program text to an lambda plus a set of parameters. The lambda should generate an SVG using those parameters\n"
   ]
  }
 ],
 "metadata": {
  "interpreter": {
   "hash": "91c1d2470ab80b393afef1a9308e4146ea19685bf186cfe44fe3659b7d9e4fc0"
  },
  "kernelspec": {
   "display_name": "Python 3.8.5 ('base')",
   "language": "python",
   "name": "python3"
  },
  "language_info": {
   "codemirror_mode": {
    "name": "ipython",
    "version": 3
   },
   "file_extension": ".py",
   "mimetype": "text/x-python",
   "name": "python",
   "nbconvert_exporter": "python",
   "pygments_lexer": "ipython3",
   "version": "3.8.5"
  },
  "orig_nbformat": 4
 },
 "nbformat": 4,
 "nbformat_minor": 2
}
