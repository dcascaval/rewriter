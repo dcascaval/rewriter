{
 "cells": [
  {
   "cell_type": "code",
   "execution_count": 45,
   "metadata": {},
   "outputs": [],
   "source": [
    "import sympy\n",
    "import numpy as np\n",
    "from dataclasses import dataclass\n",
    "from typing import List"
   ]
  },
  {
   "cell_type": "code",
   "execution_count": 37,
   "metadata": {},
   "outputs": [],
   "source": [
    "Point = sympy.Function('Point')\n",
    "Line = sympy.Function('Line')\n",
    "Extrude = sympy.Function('Extrude')"
   ]
  },
  {
   "cell_type": "code",
   "execution_count": 43,
   "metadata": {},
   "outputs": [],
   "source": [
    "a = Point(0,0)\n",
    "b = Point(1,1)\n",
    "l = Line(a, b)\n",
    "rect = Extrude(l, 1)"
   ]
  },
  {
   "cell_type": "code",
   "execution_count": 44,
   "metadata": {},
   "outputs": [
    {
     "data": {
      "text/latex": [
       "$\\displaystyle \\operatorname{Extrude}{\\left(\\operatorname{Line}{\\left(\\operatorname{Point}{\\left(0,0 \\right)},\\operatorname{Point}{\\left(1,1 \\right)} \\right)},1 \\right)}$"
      ],
      "text/plain": [
       "Extrude(Line(Point(0, 0), Point(1, 1)), 1)"
      ]
     },
     "execution_count": 44,
     "metadata": {},
     "output_type": "execute_result"
    }
   ],
   "source": [
    "rect"
   ]
  },
  {
   "cell_type": "code",
   "execution_count": 128,
   "metadata": {},
   "outputs": [],
   "source": [
    "num = float # int\n",
    "\n",
    "def box_union(*boxes):\n",
    "    points = np.concatenate(boxes, 0)\n",
    "    return np.stack([points.min(axis=0), points.max(axis=0)])\n",
    "\n",
    "class Shape:\n",
    "    pass\n",
    "\n",
    "@dataclass\n",
    "class Point(Shape):\n",
    "    x: num\n",
    "    y: num\n",
    "\n",
    "    def eval(self):\n",
    "        return f'<circle cx=\"10\" cy=\"10\" r=\"2\" fill=\"green\"/>'\n",
    "\n",
    "    def box(self):\n",
    "        return np.array([[self.x,self.y],[self.x,self.y]])\n",
    "\n",
    "@dataclass\n",
    "class Line(Shape):\n",
    "    start: Point\n",
    "    end: Point\n",
    "\n",
    "    def eval(self):\n",
    "        return f'<line x1=\"{self.start.x}\" y1=\"{self.start.y}\" x2=\"{self.end.x}\" y2=\"{self.end.y}\" stroke-width=\"1\" stroke=\"red\"/>'\n",
    "    \n",
    "    def length(self):\n",
    "        return sqrt((self.end.x - self.start.x)**2 + (self.end.y - self.start.y)**2)\n",
    "\n",
    "    def box(self):\n",
    "        return box_union(self.start.box(), self.end.box())\n",
    "\n",
    "\n",
    "@dataclass\n",
    "class Extrude(Shape):\n",
    "    line: Line\n",
    "    distance: num\n",
    "\n",
    "    def poly(self):\n",
    "        norm = self.line.length()\n",
    "        perp_x = self.distance * (self.line.start.x - self.line.end.x) / norm\n",
    "        perp_y = self.distance * (self.line.end.x - self.line.start.x) / norm\n",
    "        \n",
    "        rect = Polygon([\n",
    "           self.line.start,\n",
    "           self.line.end,\n",
    "           Point(self.line.end.x + perp_x, self.line.end.y + perp_y),\n",
    "           Point(self.line.start.x + perp_x, self.line.start.y + perp_y)\n",
    "        ])\n",
    "\n",
    "        return rect\n",
    "\n",
    "    def eval(self):\n",
    "        return self.poly().eval()\n",
    "\n",
    "    def box(self):\n",
    "        return self.poly().box()\n",
    "\n",
    "@dataclass\n",
    "class Polygon(Shape):\n",
    "    points: List[Point]\n",
    "\n",
    "    def eval(self):\n",
    "        points_str = \" \".join(f'{p.x},{p.y}' for p in self.points)\n",
    "        return f'<polygon points=\"{points_str}\" fill=\"blue\" stroke=\"none\"/>'\n",
    "\n",
    "    def box(self):\n",
    "        return box_union(*[p.box() for p in self.points])\n",
    "\n",
    "a = Point(0,0)\n",
    "b = Point(1,1)\n",
    "l = Line(a,b)\n",
    "rect = Extrude(l, 1)\n",
    "rect.eval()\n",
    "\n",
    "@dataclass\n",
    "class ShapeList(Shape):\n",
    "    shapes: List[Shape]\n",
    "\n",
    "    def box(self):\n",
    "        return box_union(*[s.box() for s in self.shapes])\n",
    "    \n",
    "    def eval(self):\n",
    "        contents_svg = '\\n'.join([s.eval() for s in self.shapes])\n",
    "        return f'<g>{contents_svg}</g>'\n",
    "\n",
    "@dataclass\n",
    "class Translate(Shape):\n",
    "    x: num\n",
    "    y: num\n",
    "    shape: Shape\n",
    "\n",
    "    def box(self):\n",
    "        return self.shape.box + np.array([self.x, self.y])\n",
    "\n",
    "    def eval(self):\n",
    "        return f'<g transform=\"translate({self.x} {self.x})>{self.shape.eval()}</g>'\n",
    "\n",
    "def draw(shape):\n",
    "    shape_svg = shape.eval()\n",
    "    box = shape.box()\n",
    "    min_corner = box[0]\n",
    "    box_size = box[1] - box[0]\n",
    "    view_box = ' '.join([' '.join(str(x) for x in min_corner), ' '.join(str(x) for x in box_size)])\n",
    "\n",
    "    return f'<svg viewBox=\"{view_box}\" xmlns=\"http://www.w3.org/2000/svg\">{shape_svg}</svg>'"
   ]
  },
  {
   "cell_type": "code",
   "execution_count": 129,
   "metadata": {},
   "outputs": [
    {
     "data": {
      "image/svg+xml": "<svg xmlns=\"http://www.w3.org/2000/svg\" viewBox=\"-0.7071067811865475 0.0 1.7071067811865475 1.7071067811865475\"><polygon points=\"0,0 1,1 0.29289321881345254,1.7071067811865475 -0.7071067811865475,0.7071067811865475\" fill=\"blue\" stroke=\"none\"/></svg>",
      "text/plain": [
       "<IPython.core.display.SVG object>"
      ]
     },
     "execution_count": 129,
     "metadata": {},
     "output_type": "execute_result"
    }
   ],
   "source": [
    "rect_svg = draw(rect)\n",
    "SVG(data=rect_svg)"
   ]
  },
  {
   "cell_type": "code",
   "execution_count": 125,
   "metadata": {},
   "outputs": [
    {
     "data": {
      "text/plain": [
       "'5475\", fil'"
      ]
     },
     "execution_count": 125,
     "metadata": {},
     "output_type": "execute_result"
    }
   ],
   "source": [
    "rect_svg[210:220]"
   ]
  },
  {
   "cell_type": "code",
   "execution_count": 34,
   "metadata": {},
   "outputs": [],
   "source": [
    "from IPython.display import SVG"
   ]
  },
  {
   "cell_type": "code",
   "execution_count": 119,
   "metadata": {},
   "outputs": [
    {
     "data": {
      "image/svg+xml": "<svg xmlns=\"http://www.w3.org/2000/svg\" viewBox=\"-4.0 -4.0 20.0 10.0\">\n  <!-- Example of a polygon with the default fill -->\n  <polygon points=\"0.0,10.0 5.0,2.5 5.0,7.5 10.0,0.0\"/>\n</svg>",
      "text/plain": [
       "<IPython.core.display.SVG object>"
      ]
     },
     "execution_count": 119,
     "metadata": {},
     "output_type": "execute_result"
    }
   ],
   "source": [
    "svg_example = '''<svg viewBox=\"-4.0 -4.0 20.0 10.0\" xmlns=\"http://www.w3.org/2000/svg\">\n",
    "  <!-- Example of a polygon with the default fill -->\n",
    "  <polygon points=\"0.0,10.0 5.0,2.5 5.0,7.5 10.0,0.0\" />\n",
    "</svg>'''\n",
    "SVG(data=svg_example)"
   ]
  },
  {
   "cell_type": "code",
   "execution_count": 2,
   "metadata": {},
   "outputs": [],
   "source": [
    "# numbers\n",
    "# add\n",
    "# line\n",
    "# extrude"
   ]
  },
  {
   "cell_type": "code",
   "execution_count": 3,
   "metadata": {},
   "outputs": [],
   "source": []
  },
  {
   "cell_type": "code",
   "execution_count": 29,
   "metadata": {},
   "outputs": [],
   "source": [
    "class Line:\n",
    "    def __init__(self, x1, y1, x2, y2):\n",
    "        self.x1 = x1\n",
    "        self.y1 = y1\n",
    "        self.x2 = x2\n",
    "        self.y2 = y2\n",
    "    def __call__(self):\n",
    "        return f'line({self.x1()}, {self.y1()}, {self.x2()}, {self.x2()})'\n",
    "\n",
    "class Number:\n",
    "    def __init__(self, n):\n",
    "        self.n = n\n",
    "    def __call__(self):\n",
    "        return self.n\n",
    "\n",
    "from math import sqrt\n",
    "\n",
    "class Polygon:\n",
    "    def __init__(self, *points):\n",
    "        self.points = points\n",
    "    \n",
    "    def __call__(self):\n",
    "        points_str = \" \".join(f'{str(a)},{str(b)}' for (a,b) in self.points)\n",
    "        return f'<polygon points=\"{points_str}\"/>'\n",
    "\n",
    "class Extrude:\n",
    "    def __init__(self, l, d):\n",
    "        self.l = l\n",
    "        self.d = d\n",
    "    def __call__(self):\n",
    "        x1 = self.l.x1()\n",
    "        x2 = self.l.x2()\n",
    "        y1 = self.l.y1()\n",
    "        y2 = self.l.y2()\n",
    "\n",
    "        perp_y = (y1 - y2)\n",
    "        perp_x = (x2 - x1)\n",
    "        perp_norm = sqrt(perp_y**2 + perp_x**2)\n",
    "        n_perp_y = perp_y / perp_norm\n",
    "        n_perp_x = perp_x / perp_norm\n",
    "\n",
    "        return Polygon(\n",
    "            (x1,y1),\n",
    "            (x2,y2), \n",
    "            (x1+n_perp_x*self.d(), y1+n_perp_y*self.d()),\n",
    "            (x2+n_perp_x*self.d(), y2+n_perp_y*self.d())\n",
    "        )()"
   ]
  },
  {
   "cell_type": "code",
   "execution_count": 30,
   "metadata": {},
   "outputs": [],
   "source": [
    "rect = Extrude(Line(Number(0),Number(0), Number(1), Number(2)), Number(1))"
   ]
  },
  {
   "cell_type": "code",
   "execution_count": 31,
   "metadata": {},
   "outputs": [
    {
     "data": {
      "text/plain": [
       "'<polygon points=\"0,0 1,2 0.4472135954999579,-0.8944271909999159 1.4472135954999579,1.1055728090000843\"/>'"
      ]
     },
     "execution_count": 31,
     "metadata": {},
     "output_type": "execute_result"
    }
   ],
   "source": [
    "rect()"
   ]
  },
  {
   "cell_type": "code",
   "execution_count": null,
   "metadata": {},
   "outputs": [],
   "source": [
    "# We want to go from a program text to an lambda plus a set of parameters. The lambda should generate an SVG using those parameters\n"
   ]
  }
 ],
 "metadata": {
  "interpreter": {
   "hash": "91c1d2470ab80b393afef1a9308e4146ea19685bf186cfe44fe3659b7d9e4fc0"
  },
  "kernelspec": {
   "display_name": "Python 3.8.5 ('base')",
   "language": "python",
   "name": "python3"
  },
  "language_info": {
   "codemirror_mode": {
    "name": "ipython",
    "version": 3
   },
   "file_extension": ".py",
   "mimetype": "text/x-python",
   "name": "python",
   "nbconvert_exporter": "python",
   "pygments_lexer": "ipython3",
   "version": "3.8.5"
  },
  "orig_nbformat": 4
 },
 "nbformat": 4,
 "nbformat_minor": 2
}
